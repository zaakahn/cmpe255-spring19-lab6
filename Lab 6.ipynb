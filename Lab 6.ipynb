{
 "cells": [
  {
   "cell_type": "markdown",
   "metadata": {},
   "source": [
    "Liner Regression Lab\n",
    "Recently, the annual number of driver deaths per 100,000 for the selected age groups was as follows:\n",
    "\n",
    "\n",
    "Age\tNumber of Driver Deaths per 100,000\n",
    "\n",
    "    17.5\t38\n",
    "\n",
    "    22\t    36\n",
    "\n",
    "    29.5\t24\n",
    "\n",
    "    44.5\t20\n",
    "\n",
    "    64.5\t18\n",
    "\n",
    "    80\t    28\n",
    "\n",
    "Questions\n",
    "\n",
    "For each age group, pick the midpoint of the interval for the x value. (For the 75+ group, use 80.)\n",
    "\n",
    "Using “ages” as the independent variable and “Number of driver deaths per 100,000” as the dependent variable, make a scatter plot of the data.\n",
    "\n",
    "Calculate the least squares (best–fit) line. Put the equation in the form of: ŷ = a + bx\n",
    "\n",
    "Predict the number of deaths for ages 40 and 60.\n",
    "\n",
    "Based on the given data, is there a linear relationship between age of a driver and driver fatality rate?\n",
    "\n",
    "Find the correlation coefficient (Pearson's r). Is it significant?\n"
   ]
  },
  {
   "cell_type": "code",
   "execution_count": 37,
   "metadata": {
    "collapsed": true
   },
   "outputs": [],
   "source": [
    "from sklearn.linear_model import LinearRegression\n",
    "# Ages as independent variable\n",
    "X = [[19.75],[25.75],[37],[54.5],[72.25],[80]]\n",
    "# Number of driver deaths dependent variable\n",
    "y = [38,36,24,20,18,28]\n",
    "reg = LinearRegression().fit(X, y)"
   ]
  },
  {
   "cell_type": "code",
   "execution_count": 38,
   "metadata": {},
   "outputs": [
    {
     "name": "stdout",
     "output_type": "stream",
     "text": [
      "0.481572239598\n",
      "[-0.23146209]\n",
      "38.4917347095\n"
     ]
    }
   ],
   "source": [
    "print(reg.score(X, y))\n",
    "print(reg.coef_)\n",
    "print(reg.intercept_)"
   ]
  },
  {
   "cell_type": "code",
   "execution_count": 39,
   "metadata": {},
   "outputs": [
    {
     "name": "stdout",
     "output_type": "stream",
     "text": [
      "[ 26.91863043]\n"
     ]
    }
   ],
   "source": [
    "print(reg.predict(50))"
   ]
  },
  {
   "cell_type": "code",
   "execution_count": 40,
   "metadata": {},
   "outputs": [
    {
     "data": {
      "text/plain": [
       "(-0.69395406159079709, 0.12616341342313486)"
      ]
     },
     "execution_count": 40,
     "metadata": {},
     "output_type": "execute_result"
    }
   ],
   "source": [
    "from scipy import stats\n",
    "stats.pearsonr([e[0] for e in X], y)"
   ]
  },
  {
   "cell_type": "markdown",
   "metadata": {},
   "source": [
    "Yes, the correlation coefficient is significant. According to the documentation:\n",
    "\n",
    "Like other correlation coefficients, this one varies between -1 and +1 with 0 implying no correlation.\n",
    "Correlations of -1 or +1 imply an exact linear relationship.\n",
    "Positive correlations imply that as x increases, so does y.\n",
    "\n",
    "The correlation coefficient is -0.69, which means as age increases the number of accidnets drop."
   ]
  }
 ],
 "metadata": {
  "kernelspec": {
   "display_name": "Python 2",
   "language": "python",
   "name": "python2"
  },
  "language_info": {
   "codemirror_mode": {
    "name": "ipython",
    "version": 2
   },
   "file_extension": ".py",
   "mimetype": "text/x-python",
   "name": "python",
   "nbconvert_exporter": "python",
   "pygments_lexer": "ipython2",
   "version": "2.7.14"
  }
 },
 "nbformat": 4,
 "nbformat_minor": 2
}
